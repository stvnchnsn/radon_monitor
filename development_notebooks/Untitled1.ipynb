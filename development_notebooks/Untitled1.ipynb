{
 "cells": [
  {
   "cell_type": "code",
   "execution_count": 42,
   "metadata": {},
   "outputs": [],
   "source": [
    "import os\n",
    "import numpy as np\n",
    "import pandas as pd\n",
    "from scipy import misc\n",
    "import matplotlib.pyplot as plt\n",
    "import imageio\n",
    "import cv2\n",
    "import shutil\n",
    "import datetime as dt\n",
    "\n",
    "import radon_monitor\n",
    "rm = radon_monitor.Radon_Monitor()"
   ]
  },
  {
   "cell_type": "code",
   "execution_count": 41,
   "metadata": {},
   "outputs": [
    {
     "data": {
      "text/html": [
       "<div>\n",
       "<style scoped>\n",
       "    .dataframe tbody tr th:only-of-type {\n",
       "        vertical-align: middle;\n",
       "    }\n",
       "\n",
       "    .dataframe tbody tr th {\n",
       "        vertical-align: top;\n",
       "    }\n",
       "\n",
       "    .dataframe thead th {\n",
       "        text-align: right;\n",
       "    }\n",
       "</style>\n",
       "<table border=\"1\" class=\"dataframe\">\n",
       "  <thead>\n",
       "    <tr style=\"text-align: right;\">\n",
       "      <th></th>\n",
       "      <th>date</th>\n",
       "      <th>path</th>\n",
       "      <th>day</th>\n",
       "    </tr>\n",
       "  </thead>\n",
       "  <tbody>\n",
       "    <tr>\n",
       "      <th>0</th>\n",
       "      <td>2021-11-04 08:01:00</td>\n",
       "      <td>/Volumes/wellington/projects/radon_monitor/dat...</td>\n",
       "      <td>11/04/2021</td>\n",
       "    </tr>\n",
       "    <tr>\n",
       "      <th>1</th>\n",
       "      <td>2021-11-04 09:02:00</td>\n",
       "      <td>/Volumes/wellington/projects/radon_monitor/dat...</td>\n",
       "      <td>11/04/2021</td>\n",
       "    </tr>\n",
       "    <tr>\n",
       "      <th>2</th>\n",
       "      <td>2021-11-04 10:03:00</td>\n",
       "      <td>/Volumes/wellington/projects/radon_monitor/dat...</td>\n",
       "      <td>11/04/2021</td>\n",
       "    </tr>\n",
       "    <tr>\n",
       "      <th>3</th>\n",
       "      <td>2021-11-04 11:04:00</td>\n",
       "      <td>/Volumes/wellington/projects/radon_monitor/dat...</td>\n",
       "      <td>11/04/2021</td>\n",
       "    </tr>\n",
       "    <tr>\n",
       "      <th>4</th>\n",
       "      <td>2021-11-04 12:05:00</td>\n",
       "      <td>/Volumes/wellington/projects/radon_monitor/dat...</td>\n",
       "      <td>11/04/2021</td>\n",
       "    </tr>\n",
       "    <tr>\n",
       "      <th>...</th>\n",
       "      <td>...</td>\n",
       "      <td>...</td>\n",
       "      <td>...</td>\n",
       "    </tr>\n",
       "    <tr>\n",
       "      <th>665</th>\n",
       "      <td>2022-01-02 16:57:00</td>\n",
       "      <td>/Volumes/wellington/projects/radon_monitor/dat...</td>\n",
       "      <td>01/02/2022</td>\n",
       "    </tr>\n",
       "    <tr>\n",
       "      <th>666</th>\n",
       "      <td>2022-01-02 17:57:00</td>\n",
       "      <td>/Volumes/wellington/projects/radon_monitor/dat...</td>\n",
       "      <td>01/02/2022</td>\n",
       "    </tr>\n",
       "    <tr>\n",
       "      <th>667</th>\n",
       "      <td>2022-01-02 17:57:00</td>\n",
       "      <td>/Volumes/wellington/projects/radon_monitor/dat...</td>\n",
       "      <td>01/02/2022</td>\n",
       "    </tr>\n",
       "    <tr>\n",
       "      <th>668</th>\n",
       "      <td>2022-01-02 18:58:00</td>\n",
       "      <td>/Volumes/wellington/projects/radon_monitor/dat...</td>\n",
       "      <td>01/02/2022</td>\n",
       "    </tr>\n",
       "    <tr>\n",
       "      <th>669</th>\n",
       "      <td>2022-01-02 19:59:00</td>\n",
       "      <td>/Volumes/wellington/projects/radon_monitor/dat...</td>\n",
       "      <td>01/02/2022</td>\n",
       "    </tr>\n",
       "  </tbody>\n",
       "</table>\n",
       "<p>670 rows × 3 columns</p>\n",
       "</div>"
      ],
      "text/plain": [
       "                   date                                               path  \\\n",
       "0   2021-11-04 08:01:00  /Volumes/wellington/projects/radon_monitor/dat...   \n",
       "1   2021-11-04 09:02:00  /Volumes/wellington/projects/radon_monitor/dat...   \n",
       "2   2021-11-04 10:03:00  /Volumes/wellington/projects/radon_monitor/dat...   \n",
       "3   2021-11-04 11:04:00  /Volumes/wellington/projects/radon_monitor/dat...   \n",
       "4   2021-11-04 12:05:00  /Volumes/wellington/projects/radon_monitor/dat...   \n",
       "..                  ...                                                ...   \n",
       "665 2022-01-02 16:57:00  /Volumes/wellington/projects/radon_monitor/dat...   \n",
       "666 2022-01-02 17:57:00  /Volumes/wellington/projects/radon_monitor/dat...   \n",
       "667 2022-01-02 17:57:00  /Volumes/wellington/projects/radon_monitor/dat...   \n",
       "668 2022-01-02 18:58:00  /Volumes/wellington/projects/radon_monitor/dat...   \n",
       "669 2022-01-02 19:59:00  /Volumes/wellington/projects/radon_monitor/dat...   \n",
       "\n",
       "            day  \n",
       "0    11/04/2021  \n",
       "1    11/04/2021  \n",
       "2    11/04/2021  \n",
       "3    11/04/2021  \n",
       "4    11/04/2021  \n",
       "..          ...  \n",
       "665  01/02/2022  \n",
       "666  01/02/2022  \n",
       "667  01/02/2022  \n",
       "668  01/02/2022  \n",
       "669  01/02/2022  \n",
       "\n",
       "[670 rows x 3 columns]"
      ]
     },
     "execution_count": 41,
     "metadata": {},
     "output_type": "execute_result"
    }
   ],
   "source": [
    "rm.date_path_map"
   ]
  },
  {
   "cell_type": "code",
   "execution_count": 35,
   "metadata": {},
   "outputs": [
    {
     "name": "stdout",
     "output_type": "stream",
     "text": [
      "calibrated dates = ['11/1/2021', '11/23/2021', '12/11/2021', '12/18/2021', '12/31/2021']\n",
      "date of photo = 11/17/2021\n",
      "matched calibration date = 11/1/2021\n",
      "{'trow': 50, 'brow': 320, 'lcol': 400, 'rcol': 580}\n",
      "(270, 180)\n",
      "{'trow': 50, 'brow': 320, 'lcol': 560, 'rcol': 740}\n",
      "(220, 0)\n",
      "{'trow': 50, 'brow': 320, 'lcol': 735, 'rcol': 915}\n",
      "(170, 0)\n",
      "{'trow': 540, 'brow': 790, 'lcol': 560, 'rcol': 660}\n",
      "(0, 0)\n",
      "{'trow': 540, 'brow': 790, 'lcol': 770, 'rcol': 870}\n",
      "(0, 0)\n",
      "{'trow': 540, 'brow': 790, 'lcol': 670, 'rcol': 770}\n",
      "(0, 0)\n",
      "{'trow': 540, 'brow': 620, 'lcol': 280, 'rcol': 360}\n",
      "(0, 0)\n"
     ]
    }
   ],
   "source": [
    "photo_fp = rm.photo_path[5]\n",
    "\n",
    "photo_date = rm._date_extractor(photo_fp).strftime('%m_%d_%Y')\n",
    "photo_data = imageio.imread(photo_fp)[:,:,0]\n",
    "date_mask =  rm.positions_df['date'] == rm._calibration_date(photo_fp,print_results = True)\n",
    "position_coords = rm.positions_df[date_mask]\n",
    "for i,(position, coord) in enumerate(zip(position_coords['position'],position_coords['coordinates'])):\n",
    "    photo_data = photo_data[coord['trow']:coord['brow'], coord['lcol']:coord['rcol']]\n",
    "    print(coord)\n",
    "    print(photo_data.shape)"
   ]
  },
  {
   "cell_type": "code",
   "execution_count": 23,
   "metadata": {},
   "outputs": [],
   "source": [
    "photo_date = rm._date_extractor(photo_fp).strftime('%m_%d_%Y')\n",
    "photo_data = imageio.imread(photo_fp)[:,:,0]"
   ]
  },
  {
   "cell_type": "code",
   "execution_count": 25,
   "metadata": {},
   "outputs": [
    {
     "data": {
      "text/plain": [
       "{'trow': 520, 'brow': 600, 'lcol': 190, 'rcol': 270}"
      ]
     },
     "execution_count": 25,
     "metadata": {},
     "output_type": "execute_result"
    }
   ],
   "source": [
    "coord"
   ]
  },
  {
   "cell_type": "code",
   "execution_count": 26,
   "metadata": {},
   "outputs": [
    {
     "data": {
      "text/plain": [
       "Array([[24, 23, 24, ..., 52, 50, 53],\n",
       "       [23, 24, 25, ..., 53, 53, 52],\n",
       "       [24, 24, 25, ..., 52, 51, 50],\n",
       "       ...,\n",
       "       [14, 14, 16, ..., 39, 36, 37],\n",
       "       [16, 17, 18, ..., 35, 34, 37],\n",
       "       [13, 16, 16, ..., 35, 35, 36]], dtype=uint8)"
      ]
     },
     "execution_count": 26,
     "metadata": {},
     "output_type": "execute_result"
    }
   ],
   "source": [
    "photo_data[coord['trow']:coord['brow'], coord['lcol']:coord['rcol']]"
   ]
  },
  {
   "cell_type": "code",
   "execution_count": 11,
   "metadata": {},
   "outputs": [
    {
     "name": "stdout",
     "output_type": "stream",
     "text": [
      "calibrated dates = ['11/1/2021', '11/23/2021', '12/11/2021', '12/18/2021', '12/31/2021']\n",
      "date of photo = 01/02/2022\n",
      "matched calibration date = 12/31/2021\n",
      "(180, 100)\n",
      "0\n",
      "/Volumes/wellington/projects/radon_monitor/data/hourly_tests/tests_01-02-2022_1757.png\n",
      "(0, 0)\n",
      "1\n",
      "/Volumes/wellington/projects/radon_monitor/data/hourly_tests/tests_01-02-2022_1757.png\n"
     ]
    },
    {
     "ename": "error",
     "evalue": "OpenCV(4.5.4-dev) /Users/runner/work/opencv-python/opencv-python/opencv/modules/imgproc/src/resize.cpp:4051: error: (-215:Assertion failed) !ssize.empty() in function 'resize'\n",
     "output_type": "error",
     "traceback": [
      "\u001b[0;31m---------------------------------------------------------------------------\u001b[0m",
      "\u001b[0;31merror\u001b[0m                                     Traceback (most recent call last)",
      "\u001b[0;32m<ipython-input-11-3712d1a1d089>\u001b[0m in \u001b[0;36m<module>\u001b[0;34m\u001b[0m\n\u001b[1;32m     10\u001b[0m         \u001b[0mprint\u001b[0m\u001b[0;34m(\u001b[0m\u001b[0mi\u001b[0m\u001b[0;34m)\u001b[0m\u001b[0;34m\u001b[0m\u001b[0;34m\u001b[0m\u001b[0m\n\u001b[1;32m     11\u001b[0m         \u001b[0mprint\u001b[0m\u001b[0;34m(\u001b[0m\u001b[0mphoto_fp\u001b[0m\u001b[0;34m)\u001b[0m\u001b[0;34m\u001b[0m\u001b[0;34m\u001b[0m\u001b[0m\n\u001b[0;32m---> 12\u001b[0;31m         \u001b[0mphoto_data\u001b[0m \u001b[0;34m=\u001b[0m \u001b[0mcv2\u001b[0m\u001b[0;34m.\u001b[0m\u001b[0mresize\u001b[0m\u001b[0;34m(\u001b[0m\u001b[0mphoto_data\u001b[0m\u001b[0;34m,\u001b[0m\u001b[0;34m(\u001b[0m\u001b[0;36m28\u001b[0m\u001b[0;34m,\u001b[0m\u001b[0;36m28\u001b[0m\u001b[0;34m)\u001b[0m\u001b[0;34m)\u001b[0m\u001b[0;34m\u001b[0m\u001b[0;34m\u001b[0m\u001b[0m\n\u001b[0m\u001b[1;32m     13\u001b[0m         \u001b[0msave_to\u001b[0m \u001b[0;34m=\u001b[0m \u001b[0mTO_BE_LABELED_CUTOUTS\u001b[0m\u001b[0;34m+\u001b[0m\u001b[0mposition\u001b[0m\u001b[0;34m+\u001b[0m\u001b[0;34m'_'\u001b[0m\u001b[0;34m+\u001b[0m\u001b[0mphoto_date\u001b[0m\u001b[0;34m+\u001b[0m\u001b[0;34m'.png'\u001b[0m\u001b[0;34m\u001b[0m\u001b[0;34m\u001b[0m\u001b[0m\n\u001b[1;32m     14\u001b[0m \u001b[0;34m\u001b[0m\u001b[0m\n",
      "\u001b[0;31merror\u001b[0m: OpenCV(4.5.4-dev) /Users/runner/work/opencv-python/opencv-python/opencv/modules/imgproc/src/resize.cpp:4051: error: (-215:Assertion failed) !ssize.empty() in function 'resize'\n"
     ]
    }
   ],
   "source": [
    "TO_BE_LABELED_CUTOUTS = '/Volumes/wellington/projects/radon_monitor/data/unlabled_images/'\n",
    "for photo_fp in rm.photo_path:\n",
    "    photo_date = rm._date_extractor(photo_fp).strftime('%m_%d_%Y')\n",
    "    photo_data = imageio.imread(photo_fp)[:,:,0]\n",
    "    date_mask =  rm.positions_df['date'] == rm._calibration_date(photo_fp,print_results = True)\n",
    "    position_coords = rm.positions_df[date_mask]\n",
    "    for i,(position, coord) in enumerate(zip(position_coords['position'],position_coords['coordinates'])):\n",
    "        photo_data = photo_data[coord['trow']:coord['brow'], coord['lcol']:coord['rcol']]\n",
    "        print(photo_data.shape)\n",
    "        print(i)\n",
    "        print(photo_fp)\n",
    "        photo_data = cv2.resize(photo_data,(28,28))\n",
    "        save_to = TO_BE_LABELED_CUTOUTS+position+'_'+photo_date+'.png'\n",
    "                \n",
    "        imageio.imwrite(save_to,photo_data)\n"
   ]
  },
  {
   "cell_type": "code",
   "execution_count": 6,
   "metadata": {},
   "outputs": [
    {
     "name": "stdout",
     "output_type": "stream",
     "text": [
      "calibrated dates = ['11/01/2021', '11/23/2021', '12/12/2021']\n",
      "date of photo = 12/18/2021\n",
      "matched calibration date = 12/12/2021\n"
     ]
    },
    {
     "data": {
      "text/plain": [
       "'12/12/2021'"
      ]
     },
     "execution_count": 6,
     "metadata": {},
     "output_type": "execute_result"
    }
   ],
   "source": [
    "rm._calibration_date(date_path,print_results = True)"
   ]
  },
  {
   "cell_type": "code",
   "execution_count": null,
   "metadata": {},
   "outputs": [],
   "source": []
  }
 ],
 "metadata": {
  "kernelspec": {
   "display_name": "Python 3",
   "language": "python",
   "name": "python3"
  },
  "language_info": {
   "codemirror_mode": {
    "name": "ipython",
    "version": 3
   },
   "file_extension": ".py",
   "mimetype": "text/x-python",
   "name": "python",
   "nbconvert_exporter": "python",
   "pygments_lexer": "ipython3",
   "version": "3.7.4"
  }
 },
 "nbformat": 4,
 "nbformat_minor": 4
}
